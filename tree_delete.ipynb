{
 "cells": [
  {
   "cell_type": "code",
   "execution_count": null,
   "metadata": {},
   "outputs": [],
   "source": [
    "treeDelete(t, r, p)\n",
    "{\n",
    "    if (r = t) then root ← deleteNode(t);                                   # 삭제할 노드 == 루트노드\n",
    "    else if (r = left[p])                                                   # 삭제할 노드 != 루트노드\n",
    "        then left[p] ← deleteNode(r);                                       # 삭제할 노드 == 부모의 왼쪽 자식\n",
    "        else right[p] ← deleteNode(r);                                      # 삭제할 노드 == 부모의 오른쪽 자식\n",
    "}\n",
    "\n",
    "deleteNode(r)\n",
    "{\n",
    "    if (left[r] = right[r] = NIL) then return NIL;                          # 삭제할 노드 == 리프노드\n",
    "    else if (left[r] = NIL and right[r] != NIL) then return right[r];       # 삭제할 노드의 자식이 오른쪽자식 하나 뿐인 것\n",
    "    else if (left[r] != NIL and right[r] = NIL) then return left[r];        # 삭제할 노드의 자식이 왼쪽자식 하나 뿐인 것\n",
    "    else {                                                                  # 삭제할 노드의 자식이 두개인 것\n",
    "            s ← right[r];\n",
    "            while (left[s] ≠ NIL){\n",
    "                parent ← s; s ← left[s];\n",
    "                }\n",
    "            key[r] ← key[s];\n",
    "            if (s = right[r]) then right[r] ← right[s];\n",
    "            else left[parent] ← right[s];\n",
    "            return r;\n",
    "        }\n",
    "}\n"
   ]
  }
 ],
 "metadata": {
  "language_info": {
   "name": "python"
  },
  "orig_nbformat": 4
 },
 "nbformat": 4,
 "nbformat_minor": 2
}
