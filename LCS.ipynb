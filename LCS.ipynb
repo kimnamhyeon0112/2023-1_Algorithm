{
 "cells": [
  {
   "cell_type": "code",
   "execution_count": 1,
   "metadata": {},
   "outputs": [
    {
     "name": "stdout",
     "output_type": "stream",
     "text": [
      "최장 공통 부분 순서: 011101010\n"
     ]
    }
   ],
   "source": [
    "def longest_common_subsequence(seq1, seq2):\n",
    "    m = len(seq1)\n",
    "    n = len(seq2)\n",
    "\n",
    "    # LCS 길이를 저장할 2차원 배열 초기화\n",
    "    dp = [[0] * (n+1) for _ in range(m+1)]\n",
    "\n",
    "    # LCS 길이 계산\n",
    "    for i in range(1, m+1):\n",
    "        for j in range(1, n+1):\n",
    "            if seq1[i-1] == seq2[j-1]:\n",
    "                dp[i][j] = dp[i-1][j-1] + 1\n",
    "            else:\n",
    "                dp[i][j] = max(dp[i-1][j], dp[i][j-1])\n",
    "\n",
    "    # LCS 역추적하여 구하기\n",
    "    lcs = []\n",
    "    i = m\n",
    "    j = n\n",
    "    while i > 0 and j > 0:\n",
    "        if seq1[i-1] == seq2[j-1]:\n",
    "            lcs.append(seq1[i-1])\n",
    "            i -= 1\n",
    "            j -= 1\n",
    "        elif dp[i-1][j] >= dp[i][j-1]:\n",
    "            i -= 1\n",
    "        else:\n",
    "            j -= 1\n",
    "\n",
    "    # 역순으로 출력\n",
    "    lcs.reverse()\n",
    "\n",
    "    return lcs\n",
    "\n",
    "# 주어진 두 순서열\n",
    "seq1 = \"10111010100\"\n",
    "seq2 = \"00111010110\"\n",
    "\n",
    "# 최장 공통 부분 순서 계산\n",
    "lcs = longest_common_subsequence(seq1, seq2)\n",
    "\n",
    "# 결과 출력\n",
    "result = \"\".join(lcs)\n",
    "print(f\"최장 공통 부분 순서: {result}\")"
   ]
  }
 ],
 "metadata": {
  "kernelspec": {
   "display_name": "Python 3",
   "language": "python",
   "name": "python3"
  },
  "language_info": {
   "codemirror_mode": {
    "name": "ipython",
    "version": 3
   },
   "file_extension": ".py",
   "mimetype": "text/x-python",
   "name": "python",
   "nbconvert_exporter": "python",
   "pygments_lexer": "ipython3",
   "version": "3.11.1"
  },
  "orig_nbformat": 4
 },
 "nbformat": 4,
 "nbformat_minor": 2
}
