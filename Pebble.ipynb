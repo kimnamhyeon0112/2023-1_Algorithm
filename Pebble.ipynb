{
 "cells": [
  {
   "attachments": {},
   "cell_type": "markdown",
   "metadata": {},
   "source": [
    "# DP 알고리즘 사용"
   ]
  },
  {
   "cell_type": "code",
   "execution_count": null,
   "metadata": {},
   "outputs": [],
   "source": [
    "def pebble(n):\n",
    "    peb = [[0]*4 for i in range(n+1)]\n",
    "    for p in range(1, 4):\n",
    "        peb[1][p] = w[0][p-1]\n",
    "    for i in range(2, n+1):\n",
    "        for p in range(1, 4):\n",
    "            peb[i][p] = max(peb[i-1][q] + w[i-1][p-1] for q in range(1, 4))\n",
    "    return max(peb[n])"
   ]
  },
  {
   "cell_type": "code",
   "execution_count": null,
   "metadata": {},
   "outputs": [
    {
     "name": "stdout",
     "output_type": "stream",
     "text": [
      "6 7 12 \n",
      "4 22 26 \n",
      "37 38 33 \n"
     ]
    }
   ],
   "source": [
    "peb = [[0]*4 for i in range(n+1)]\n",
    "for p in range(1, 4):\n",
    "    peb[1][p] = w[0][p-1]\n",
    "for i in range(2, n+1):\n",
    "    for p in range(1, 4):\n",
    "        peb[i][p] = max(peb[i-1][q] + w[i-1][p-1] for q in range(1, 4))\n",
    "\n",
    "for i in range(1, n+1):\n",
    "    for j in range(1, 4):\n",
    "        print(peb[i][j], end=' ')\n",
    "    print()"
   ]
  }
 ],
 "metadata": {
  "kernelspec": {
   "display_name": "Python 3",
   "language": "python",
   "name": "python3"
  },
  "language_info": {
   "codemirror_mode": {
    "name": "ipython",
    "version": 3
   },
   "file_extension": ".py",
   "mimetype": "text/x-python",
   "name": "python",
   "nbconvert_exporter": "python",
   "pygments_lexer": "ipython3",
   "version": "3.11.1"
  },
  "orig_nbformat": 4
 },
 "nbformat": 4,
 "nbformat_minor": 2
}
