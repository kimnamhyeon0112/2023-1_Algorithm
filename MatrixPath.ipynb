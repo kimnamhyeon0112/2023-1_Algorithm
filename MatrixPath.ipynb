{
 "cells": [
  {
   "attachments": {},
   "cell_type": "markdown",
   "metadata": {},
   "source": [
    "# 재귀 구현"
   ]
  },
  {
   "cell_type": "code",
   "execution_count": 24,
   "metadata": {},
   "outputs": [
    {
     "name": "stdout",
     "output_type": "stream",
     "text": [
      "73\n"
     ]
    }
   ],
   "source": [
    "def matrixPath(i, j):\n",
    "    if i == 0 or j == 0:\n",
    "        return 0\n",
    "    else:\n",
    "        mij = M[i-1][j-1]\n",
    "        return mij + max(matrixPath(i-1, j), matrixPath(i, j-1))\n",
    "    \n",
    "M = [[1, 2, 3, 4],\n",
    "     [5, 6, 7, 8],\n",
    "     [9, 10, 11, 12],\n",
    "     [13, 14, 15, 16]]\n",
    "max_sum = matrixPath(4, 4)\n",
    "print(max_sum)"
   ]
  },
  {
   "attachments": {},
   "cell_type": "markdown",
   "metadata": {},
   "source": [
    "# DP 알고리즘 사용"
   ]
  },
  {
   "cell_type": "code",
   "execution_count": 47,
   "metadata": {},
   "outputs": [
    {
     "name": "stdout",
     "output_type": "stream",
     "text": [
      "22\n"
     ]
    }
   ],
   "source": [
    "def matrixPath(n):\n",
    "    c = [[0 for j in range(n)] for i in range(n)]\n",
    "    c[0][0] = M[0][0]\n",
    "    for i in range(1, n):\n",
    "        c[i][0] = c[i-1][0] + M[i][0]\n",
    "    for j in range(1, n):\n",
    "        c[0][j] = c[0][j-1] + M[0][j]\n",
    "    for i in range(1, n):\n",
    "        for j in range(1, n):\n",
    "            c[i][j] = M[i][j] + max(c[i-1][j], c[i][j-1])\n",
    "    return c[n-1][n-1]\n",
    "\n",
    "M = [[3, 4, 1],\n",
    "     [2, 5, 7],\n",
    "     [2, 4, 3]]\n",
    "\n",
    "max_sum = matrixPath(3)\n",
    "print(max_sum)"
   ]
  }
 ],
 "metadata": {
  "kernelspec": {
   "display_name": "Python 3",
   "language": "python",
   "name": "python3"
  },
  "language_info": {
   "codemirror_mode": {
    "name": "ipython",
    "version": 3
   },
   "file_extension": ".py",
   "mimetype": "text/x-python",
   "name": "python",
   "nbconvert_exporter": "python",
   "pygments_lexer": "ipython3",
   "version": "3.11.1"
  },
  "orig_nbformat": 4
 },
 "nbformat": 4,
 "nbformat_minor": 2
}
