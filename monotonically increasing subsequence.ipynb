{
 "cells": [
  {
   "cell_type": "code",
   "execution_count": 1,
   "metadata": {},
   "outputs": [
    {
     "name": "stdout",
     "output_type": "stream",
     "text": [
      "가장 긴 단조 증가 부분 수열의 길이: 7\n",
      "가장 긴 단조 증가 부분 수열: [1, 5, 10, 25, 35, 66, 75]\n"
     ]
    }
   ],
   "source": [
    "def find_longest_increasing_subsequence(nums):\n",
    "    n = len(nums)\n",
    "    dp = [1] * n  # 각 위치에서의 최장 부분 수열 길이를 저장하는 배열\n",
    "\n",
    "    for i in range(1, n):\n",
    "        for j in range(i):\n",
    "            if nums[i] > nums[j]:\n",
    "                dp[i] = max(dp[i], dp[j] + 1)\n",
    "\n",
    "    max_length = max(dp)  # 최장 부분 수열의 길이\n",
    "\n",
    "    # 최장 부분 수열 찾기\n",
    "    longest_subsequence = []\n",
    "    length = max_length\n",
    "    for i in range(n - 1, -1, -1):\n",
    "        if dp[i] == length:\n",
    "            longest_subsequence.append(nums[i])\n",
    "            length -= 1\n",
    "\n",
    "    longest_subsequence.reverse()  # 역순으로 저장되었으므로 순서를 뒤집어 정상적인 순서로 만듦\n",
    "\n",
    "    return max_length, longest_subsequence\n",
    "\n",
    "# 예시 수열\n",
    "sequence = [1, 10, 5, 20, 15, 10, 30, 49, 25, 35, 66, 75, 44]\n",
    "\n",
    "# 가장 긴 단조 증가 부분 수열의 길이와 수열 자체를 찾음\n",
    "length, subsequence = find_longest_increasing_subsequence(sequence)\n",
    "\n",
    "print(\"가장 긴 단조 증가 부분 수열의 길이:\", length)\n",
    "print(\"가장 긴 단조 증가 부분 수열:\", subsequence)"
   ]
  }
 ],
 "metadata": {
  "kernelspec": {
   "display_name": "Python 3",
   "language": "python",
   "name": "python3"
  },
  "language_info": {
   "codemirror_mode": {
    "name": "ipython",
    "version": 3
   },
   "file_extension": ".py",
   "mimetype": "text/x-python",
   "name": "python",
   "nbconvert_exporter": "python",
   "pygments_lexer": "ipython3",
   "version": "3.11.1"
  },
  "orig_nbformat": 4
 },
 "nbformat": 4,
 "nbformat_minor": 2
}
