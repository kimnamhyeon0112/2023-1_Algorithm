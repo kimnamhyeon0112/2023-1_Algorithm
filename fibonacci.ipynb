{
 "cells": [
  {
   "attachments": {},
   "cell_type": "markdown",
   "metadata": {},
   "source": [
    "# 피보나치 수열 재귀적 해법"
   ]
  },
  {
   "cell_type": "code",
   "execution_count": 5,
   "metadata": {},
   "outputs": [
    {
     "name": "stdout",
     "output_type": "stream",
     "text": [
      "8\n",
      "0.0\n"
     ]
    }
   ],
   "source": [
    "import time\n",
    "\n",
    "def fib(n):\n",
    "    if(n==1 or n==2):                       # -> a\n",
    "        return 1                            # -> b\n",
    "    else: return(fib(n-1)+fib(n-2))         # -> \n",
    "    \n",
    "print(fib(6))\n",
    "start = time.process_time()\n",
    "print(time.process_time()-start)"
   ]
  },
  {
   "attachments": {},
   "cell_type": "markdown",
   "metadata": {},
   "source": [
    "# 피보나치 수열 동적프로그래밍-Tabulation(표 채우기)"
   ]
  },
  {
   "cell_type": "code",
   "execution_count": 6,
   "metadata": {},
   "outputs": [
    {
     "data": {
      "text/plain": [
       "8"
      ]
     },
     "execution_count": 6,
     "metadata": {},
     "output_type": "execute_result"
    }
   ],
   "source": [
    "def fibonacci(n):\n",
    "    f = [0] * (n+1)                 # -> a\n",
    "    f[1] = f[2] = 1                 # -> b\n",
    "    for i in range(3, n+1):\n",
    "        f[i] = f[i-1] + f[i-2]      # -> c(n-2)\n",
    "    return f[n]                     # -> d\n",
    "                                    # a+b+c(n-2)+d = O(n)\n",
    "fibonacci(6)"
   ]
  },
  {
   "attachments": {},
   "cell_type": "markdown",
   "metadata": {},
   "source": [
    "# 피보나치 수열 동적프로그래밍-Memoization(메모하기)"
   ]
  },
  {
   "cell_type": "code",
   "execution_count": 37,
   "metadata": {},
   "outputs": [
    {
     "data": {
      "text/plain": [
       "8"
      ]
     },
     "execution_count": 37,
     "metadata": {},
     "output_type": "execute_result"
    }
   ],
   "source": [
    "def fibonacci(n):\n",
    "    f = [0] * (n+1)\n",
    "    if(f[n] != 0): return f[n]\n",
    "    else:\n",
    "        if(n==1 or n==2):\n",
    "            f[n]=1\n",
    "        else:\n",
    "            f[n]=fibonacci(n-1)+fibonacci(n-2)\n",
    "        return f[n]\n",
    "fibonacci(6)"
   ]
  },
  {
   "attachments": {},
   "cell_type": "markdown",
   "metadata": {},
   "source": [
    "# tabulation과 memorization 비교"
   ]
  },
  {
   "cell_type": "code",
   "execution_count": 40,
   "metadata": {},
   "outputs": [],
   "source": [
    "# tabulation\n",
    "import time\n",
    "\n",
    "def fib_tabulation(n):\n",
    "    table=[1,1]\n",
    "    for i in range(2, n):\n",
    "        table.append(table[i-1] + table[i-2])\n",
    "    return table[n-1]\n",
    "\n",
    "# memoization\n",
    "def fib_memoization(n):\n",
    "    memo = [1,1]\n",
    "    for i in range(2, n):\n",
    "        memo.append(0)\n",
    "    return fib_action(memo, n-1)\n",
    "\n",
    "def fib_action(memo, n):\n",
    "    if memo[n]>0:\n",
    "        return memo[n]\n",
    "    \n",
    "    memo[n]=fib_action(memo, n-1) + fib_action(memo, n-2)\n",
    "    return memo[n]"
   ]
  },
  {
   "cell_type": "code",
   "execution_count": 42,
   "metadata": {},
   "outputs": [
    {
     "name": "stdout",
     "output_type": "stream",
     "text": [
      "354224848179261915075\n",
      "0.0\n",
      "354224848179261915075\n",
      "0.0\n"
     ]
    }
   ],
   "source": [
    "index = 100\n",
    "start1 = start2 = time.process_time()\n",
    "tab_time = round(time.process_time()-start1, 10)\n",
    "memo_time = round(time.process_time()-start2, 10)\n",
    "\n",
    "print(fib_tabulation(index))\n",
    "print(tab_time)\n",
    "\n",
    "print(fib_memoization(index))\n",
    "print(memo_time)"
   ]
  }
 ],
 "metadata": {
  "kernelspec": {
   "display_name": "Python 3",
   "language": "python",
   "name": "python3"
  },
  "language_info": {
   "codemirror_mode": {
    "name": "ipython",
    "version": 3
   },
   "file_extension": ".py",
   "mimetype": "text/x-python",
   "name": "python",
   "nbconvert_exporter": "python",
   "pygments_lexer": "ipython3",
   "version": "3.11.1"
  },
  "orig_nbformat": 4
 },
 "nbformat": 4,
 "nbformat_minor": 2
}
